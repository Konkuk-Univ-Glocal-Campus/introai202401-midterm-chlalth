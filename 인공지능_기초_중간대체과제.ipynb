{
 "cells": [
  {
   "cell_type": "code",
   "execution_count": 7,
   "metadata": {},
   "outputs": [
    {
     "ename": "ModuleNotFoundError",
     "evalue": "No module named 'torchvision'",
     "output_type": "error",
     "traceback": [
      "\u001b[1;31m---------------------------------------------------------------------------\u001b[0m",
      "\u001b[1;31mModuleNotFoundError\u001b[0m                       Traceback (most recent call last)",
      "Cell \u001b[1;32mIn[7], line 5\u001b[0m\n\u001b[0;32m      3\u001b[0m \u001b[38;5;28;01mimport\u001b[39;00m \u001b[38;5;21;01mzipfile\u001b[39;00m\n\u001b[0;32m      4\u001b[0m \u001b[38;5;28;01mimport\u001b[39;00m \u001b[38;5;21;01mtorch\u001b[39;00m\n\u001b[1;32m----> 5\u001b[0m \u001b[38;5;28;01mimport\u001b[39;00m \u001b[38;5;21;01mtorchvision\u001b[39;00m\u001b[38;5;21;01m.\u001b[39;00m\u001b[38;5;21;01mtransforms\u001b[39;00m \u001b[38;5;28;01mas\u001b[39;00m \u001b[38;5;21;01mtransforms\u001b[39;00m\n\u001b[0;32m      6\u001b[0m \u001b[38;5;28;01mfrom\u001b[39;00m \u001b[38;5;21;01mPIL\u001b[39;00m \u001b[38;5;28;01mimport\u001b[39;00m Image\n\u001b[0;32m      7\u001b[0m \u001b[38;5;28;01mimport\u001b[39;00m \u001b[38;5;21;01mmatplotlib\u001b[39;00m\u001b[38;5;21;01m.\u001b[39;00m\u001b[38;5;21;01mpyplot\u001b[39;00m \u001b[38;5;28;01mas\u001b[39;00m \u001b[38;5;21;01mplt\u001b[39;00m\n",
      "\u001b[1;31mModuleNotFoundError\u001b[0m: No module named 'torchvision'"
     ]
    }
   ],
   "source": [
    "import os\n",
    "import glob\n",
    "import zipfile\n",
    "import torch\n",
    "import torchvision.transforms as transforms\n",
    "from PIL import Image\n",
    "import matplotlib.pyplot as plt\n",
    "import numpy as np\n",
    "\n",
    "def check_image(fn):  # 이미지 파일이 유효한지 확인하는 함수\n",
    "    try:\n",
    "        im = Image.open(fn)  # 이미지 파일 열기\n",
    "        im.verify()  # 이미지 유효성 검사\n",
    "        return True  # 유효한 이미지일 경우 True 반환\n",
    "    except:\n",
    "        return False  # 유효하지 않은 이미지일 경우 False 반환\n",
    "\n",
    "def check_image_dir(path):  # 디렉토리 내 모든 이미지 파일을 확인하고 손상된 파일을 삭제하는 함수\n",
    "    for fn in glob.glob(path):  # 주어진 경로 패턴과 일치하는 모든 파일을 반복\n",
    "        if not check_image(fn):  # 이미지가 유효하지 않은 경우\n",
    "            print(\"Corrupt image: {}\".format(fn))  # 손상된 이미지 파일 이름 출력\n",
    "            os.remove(fn)  # 손상된 이미지 파일 삭제\n",
    "\n",
    "def common_transform():  # 이미지 변환을 설정하는 함수\n",
    "    std_normalize = transforms.Normalize(mean=[0.485, 0.456, 0.406], std=[0.229, 0.224, 0.225])  # 이미지 정규화 설정\n",
    "    trans = transforms.Compose([  # 여러 이미지 변환 조합 설정\n",
    "        transforms.Resize(256),  # 이미지 크기 조정\n",
    "        transforms.CenterCrop(224),  # 이미지 중앙을 기준으로 잘라내기\n",
    "        transforms.ToTensor(),  # 이미지를 텐서로 변환\n",
    "        std_normalize])  # 정규화 변환 적용\n",
    "    return trans  # 설정된 변환 반환\n"
   ]
  }
 ],
 "metadata": {
  "kernelspec": {
   "display_name": "Python 3",
   "language": "python",
   "name": "python3"
  },
  "language_info": {
   "codemirror_mode": {
    "name": "ipython",
    "version": 3
   },
   "file_extension": ".py",
   "mimetype": "text/x-python",
   "name": "python",
   "nbconvert_exporter": "python",
   "pygments_lexer": "ipython3",
   "version": "3.11.4"
  }
 },
 "nbformat": 4,
 "nbformat_minor": 2
}
