{
 "cells": [
  {
   "cell_type": "code",
   "execution_count": 1,
   "metadata": {},
   "outputs": [],
   "source": [
    "import torch  # PyTorch 라이브러리를 임포트합니다. PyTorch는 딥러닝 프레임워크로서 텐서 연산을 지원하며, 딥러닝 모델을 구축하고 학습시키는 데 사용됩니다.\n",
    "import torchvision  # PyTorch의 비전 처리 라이브러리인 torchvision을 임포트합니다. torchvision은 이미지 데이터셋 및 일반적인 이미지 변환을 제공합니다.\n",
    "import torchvision.transforms as transforms  # torchvision.transforms 모듈을 transforms로 별칭하여 임포트합니다. 데이터 변환을 위한 함수와 클래스를 포함합니다.\n",
    "import torch.nn as nn  # PyTorch의 신경망 관련 모듈인 torch.nn을 임포트합니다. 신경망 모델을 정의하는 데 사용됩니다.\n",
    "import torch.optim as optim  # PyTorch의 최적화 알고리즘을 제공하는 torch.optim을 임포트합니다. 모델의 가중치를 업데이트하는 데 사용됩니다.\n",
    "import matplotlib.pyplot as plt  # 데이터 시각화를 위한 matplotlib의 pyplot 모듈을 임포트합니다. 그래프를 그리고 이미지를 표시하는 데 사용됩니다.\n",
    "import numpy as np  # 수치 연산을 위한 넘파이 라이브러리를 임포트합니다. 다차원 배열과 연산을 제공하며, 데이터 처리 및 변환에 사용됩니다.\n"
   ]
  },
  {
   "cell_type": "code",
   "execution_count": 2,
   "metadata": {},
   "outputs": [
    {
     "name": "stdout",
     "output_type": "stream",
     "text": [
      "Downloading http://fashion-mnist.s3-website.eu-central-1.amazonaws.com/train-images-idx3-ubyte.gz\n",
      "Downloading http://fashion-mnist.s3-website.eu-central-1.amazonaws.com/train-images-idx3-ubyte.gz to ./data\\FashionMNIST\\raw\\train-images-idx3-ubyte.gz\n"
     ]
    },
    {
     "name": "stderr",
     "output_type": "stream",
     "text": [
      "100.0%\n"
     ]
    },
    {
     "name": "stdout",
     "output_type": "stream",
     "text": [
      "Extracting ./data\\FashionMNIST\\raw\\train-images-idx3-ubyte.gz to ./data\\FashionMNIST\\raw\n",
      "\n",
      "Downloading http://fashion-mnist.s3-website.eu-central-1.amazonaws.com/train-labels-idx1-ubyte.gz\n",
      "Downloading http://fashion-mnist.s3-website.eu-central-1.amazonaws.com/train-labels-idx1-ubyte.gz to ./data\\FashionMNIST\\raw\\train-labels-idx1-ubyte.gz\n"
     ]
    },
    {
     "name": "stderr",
     "output_type": "stream",
     "text": [
      "100.0%\n"
     ]
    },
    {
     "name": "stdout",
     "output_type": "stream",
     "text": [
      "Extracting ./data\\FashionMNIST\\raw\\train-labels-idx1-ubyte.gz to ./data\\FashionMNIST\\raw\n",
      "\n",
      "Downloading http://fashion-mnist.s3-website.eu-central-1.amazonaws.com/t10k-images-idx3-ubyte.gz\n",
      "Downloading http://fashion-mnist.s3-website.eu-central-1.amazonaws.com/t10k-images-idx3-ubyte.gz to ./data\\FashionMNIST\\raw\\t10k-images-idx3-ubyte.gz\n"
     ]
    },
    {
     "name": "stderr",
     "output_type": "stream",
     "text": [
      "100.0%\n"
     ]
    },
    {
     "name": "stdout",
     "output_type": "stream",
     "text": [
      "Extracting ./data\\FashionMNIST\\raw\\t10k-images-idx3-ubyte.gz to ./data\\FashionMNIST\\raw\n",
      "\n",
      "Downloading http://fashion-mnist.s3-website.eu-central-1.amazonaws.com/t10k-labels-idx1-ubyte.gz\n",
      "Downloading http://fashion-mnist.s3-website.eu-central-1.amazonaws.com/t10k-labels-idx1-ubyte.gz to ./data\\FashionMNIST\\raw\\t10k-labels-idx1-ubyte.gz\n"
     ]
    },
    {
     "name": "stderr",
     "output_type": "stream",
     "text": [
      "100.0%"
     ]
    },
    {
     "name": "stdout",
     "output_type": "stream",
     "text": [
      "Extracting ./data\\FashionMNIST\\raw\\t10k-labels-idx1-ubyte.gz to ./data\\FashionMNIST\\raw\n",
      "\n"
     ]
    },
    {
     "name": "stderr",
     "output_type": "stream",
     "text": [
      "\n"
     ]
    },
    {
     "data": {
      "image/png": "[encoded data removed]",
      "text/plain": [
       "<Figure size 640x480 with 1 Axes>"
      ]
     },
     "metadata": {},
     "output_type": "display_data"
    },
    {
     "name": "stdout",
     "output_type": "stream",
     "text": [
      "  Bag Sandal Dress Sandal\n"
     ]
    }
   ],
   "source": [
    "transform = transforms.Compose([transforms.ToTensor(), transforms.Normalize((0.5,), (0.5,))])\n",
    "# 데이터 전처리 위해  변환 파이프라인 정의 -> 여기서는 이미지를 텐서로 변환하고 정규화 수행\n",
    "\n",
    "trainset = torchvision.datasets.FashionMNIST(root='./data', train=True, download=True, transform=transform)\n",
    "# FashionMNIST 데이터셋 로드 / 훈련 데이터셋(train=True)을 사용하며, 데이터를 다운로드하고(transform=transform) 정의한 변환 적용\n",
    "\n",
    "trainloader = torch.utils.data.DataLoader(trainset, batch_size=4, shuffle=True)\n",
    "# DataLoader를 사용하여 데이터를 배치로 나누고, 섞고, 로드합니다. 여기서는 배치 크기를 4로 지정하고(shuffle=True) 데이터 섞음\n",
    "\n",
    "classes = ('T-shirt/top', 'Trouser', 'Pullover', 'Dress', 'Coat', 'Sandal', 'Shirt', 'Sneaker', 'Bag', 'Ankle boot')\n",
    "# 클래스 레이블을 정의 -> FashionMNIST 데이터셋에 10개의 클래스\n",
    "\n",
    "def imshow(img):\n",
    "    img = img / 2 + 0.5  # 이미지를 언노말라이즈합니다.\n",
    "    npimg = img.numpy()  # 이미지를 넘파이 배열로 변환합니다.\n",
    "    plt.imshow(np.transpose(npimg, (1, 2, 0)))  # 이미지 시각화/ 채널 순서를 변경하여 RGB 형식으로 변환\n",
    "    plt.show()  # 이미지를 화면에 출력합니다.\n",
    "\n",
    "images, labels = next(iter(trainloader))\n",
    "# 훈련 데이터로더에서 첫 번째 배치의 데이터, 레이블 가져옴\n",
    "\n",
    "imshow(torchvision.utils.make_grid(images))\n",
    "# 가져온 이미지를 그리드 형태로 시각화\n",
    "\n",
    "print(' '.join('%5s' % classes[labels[j]] for j in range(4)))\n",
    "# 각 이미지에 대한 정답 클래스 레이블 출력\n"
   ]
  },
  {
   "cell_type": "code",
   "execution_count": 3,
   "metadata": {},
   "outputs": [
    {
     "name": "stdout",
     "output_type": "stream",
     "text": [
      "[1,  2000] loss: 1.332\n",
      "[1,  4000] loss: 0.657\n",
      "[1,  6000] loss: 0.559\n",
      "[1,  8000] loss: 0.494\n",
      "[1, 10000] loss: 0.460\n",
      "[1, 12000] loss: 0.461\n",
      "[1, 14000] loss: 0.434\n",
      "[2,  2000] loss: 0.392\n",
      "[2,  4000] loss: 0.387\n",
      "[2,  6000] loss: 0.364\n",
      "[2,  8000] loss: 0.363\n",
      "[2, 10000] loss: 0.359\n",
      "[2, 12000] loss: 0.351\n",
      "[2, 14000] loss: 0.350\n",
      "Finished Training\n"
     ]
    }
   ],
   "source": [
    "import torch.nn.functional as F\n",
    "# 신경망의 활성화 함수를 포함하는 torch.nn.functional을 F로 import\n",
    "\n",
    "class Cnn(nn.Module):\n",
    "    # CNN 모델을 정의하는 클래스.\n",
    "    def __init__(self):\n",
    "        super(Cnn, self).__init__()\n",
    "        # 모델의 구조를 초기화.\n",
    "        self.conv1 = nn.Conv2d(1, 6, 5)\n",
    "        self.pool = nn.MaxPool2d(2, 2)\n",
    "        self.conv2 = nn.Conv2d(6, 16, 5)\n",
    "        self.fc1 = nn.Linear(16 * 4 * 4, 120)\n",
    "        self.fc2 = nn.Linear(120, 84)\n",
    "        self.fc3 = nn.Linear(84, 10)\n",
    "\n",
    "    def forward(self, x):\n",
    "        # 신경망의 순전파(forward) 연산을 정의\n",
    "        x = self.pool(F.relu(self.conv1(x)))\n",
    "        x = self.pool(F.relu(self.conv2(x)))\n",
    "        x = x.view(-1, 16 * 4 * 4)\n",
    "        x = F.relu(self.fc1(x))\n",
    "        x = F.relu(self.fc2(x))\n",
    "        x = self.fc3(x)\n",
    "        return x\n",
    "\n",
    "net = Cnn()\n",
    "# CNN 모델을 인스턴스화\n",
    "\n",
    "criterion = nn.CrossEntropyLoss()\n",
    "# Cross Entropy 손실 함수를 criterion으로 정의.\n",
    "\n",
    "optimizer = optim.SGD(net.parameters(), lr=0.001, momentum=0.9)\n",
    "# 확률적 경사하강법(SGD)을 사용하여 최적화를 설정. 학습률은 0.001, 모멘텀은 0.9\n",
    "\n",
    "for epoch in range(2):  # 데이터셋을 여러번 반복\n",
    "    running_loss = 0.0\n",
    "    for i, data in enumerate(trainloader, 0):\n",
    "        inputs, labels = data\n",
    "\n",
    "        optimizer.zero_grad()\n",
    "        # 변화도(Gradient) -> 0\n",
    "\n",
    "        outputs = net(inputs)\n",
    "        # 순전파(forward) 단계를 실행.\n",
    "        \n",
    "        loss = criterion(outputs, labels)\n",
    "        # 손실 계산\n",
    "\n",
    "        loss.backward()\n",
    "        # 역전파 단계를 실행 후 기울기를 계산\n",
    "\n",
    "        optimizer.step()\n",
    "        # 최적화 단계를 실행 후 매개변수를 업데이트\n",
    "\n",
    "        running_loss += loss.item()\n",
    "        # 통계 출력을 위해 손실을 더함\n",
    "\n",
    "        if i % 2000 == 1999:  # 미니배치 단위로 출력\n",
    "            print('[%d, %5d] loss: %.3f' %\n",
    "                  (epoch + 1, i + 1, running_loss / 2000))\n",
    "            running_loss = 0.0\n",
    "\n",
    "print('훈련완료!')\n",
    "# 훈련 완료를 알림\n"
   ]
  },
  {
   "cell_type": "code",
   "execution_count": 4,
   "metadata": {},
   "outputs": [
    {
     "name": "stdout",
     "output_type": "stream",
     "text": [
      "Accuracy of the network on the 10000 test images: 85 %\n",
      "Accuracy of T-shirt/top : 90 %\n",
      "Accuracy of Trouser : 96 %\n",
      "Accuracy of Pullover : 84 %\n",
      "Accuracy of Dress : 85 %\n",
      "Accuracy of  Coat : 79 %\n",
      "Accuracy of Sandal : 90 %\n",
      "Accuracy of Shirt : 48 %\n",
      "Accuracy of Sneaker : 98 %\n",
      "Accuracy of   Bag : 94 %\n",
      "Accuracy of Ankle boot : 89 %\n"
     ]
    }
   ],
   "source": [
    "# FashionMNIST 테스트 데이터셋을 로드합니다.\n",
    "testset = torchvision.datasets.FashionMNIST(root='./data', train=False, download=True, transform=transform)\n",
    "\n",
    "# 테스트 데이터를 미니배치로 나누고 섞어서 로드하는 데이터 로더를 생성합니다.\n",
    "testloader = torch.utils.data.DataLoader(testset, batch_size=4, shuffle=False)\n",
    "\n",
    "# 정확도 계산을 위한 변수 초기화\n",
    "correct = 0  # 맞게 예측한 이미지 수\n",
    "total = 0    # 전체 이미지 수\n",
    "\n",
    "# 그래디언트를 계산하지 않도록 설정하여 성능 향상을 위해 torch.no_grad() 컨텍스트 매니저를 사용합니다.\n",
    "with torch.no_grad():\n",
    "    # 테스트 데이터셋에 대해 반복하여 예측합니다.\n",
    "    for data in testloader:\n",
    "        images, labels = data  # 이미지와 레이블을 가져옵니다.\n",
    "        outputs = net(images)  # 신경망에 이미지를 전달하여 예측값을 얻습니다.\n",
    "        _, predicted = torch.max(outputs.data, 1)  # 예측값에서 가장 높은 확률을 갖는 클래스를 선택합니다.\n",
    "        total += labels.size(0)  # 전체 이미지 수를 업데이트합니다.\n",
    "        correct += (predicted == labels).sum().item()  # 정답과 예측이 일치하는 경우를 카운트합니다.\n",
    "\n",
    "# 전체 테스트 데이터셋에 대한 정확도를 계산하여 출력합니다.\n",
    "print('Accuracy of the network on the 10000 test images: %d %%' % (100 * correct / total))\n",
    "\n",
    "# 각 클래스에 대한 정확도를 계산하여 출력합니다.\n",
    "class_correct = list(0. for i in range(10))  # 각 클래스에 대한 맞은 개수를 저장하는 리스트 초기화\n",
    "class_total = list(0. for i in range(10))    # 각 클래스에 대한 전체 개수를 저장하는 리스트 초기화\n",
    "\n",
    "# 그래디언트를 계산하지 않도록 설정하여 성능 향상을 위해 torch.no_grad() 컨텍스트 매니저를 사용합니다.\n",
    "with torch.no_grad():\n",
    "    # 테스트 데이터셋에 대해 반복하여 예측합니다.\n",
    "    for data in testloader:\n",
    "        images, labels = data  # 이미지와 레이블을 가져옵니다.\n",
    "        outputs = net(images)  # 신경망에 이미지를 전달하여 예측값을 얻습니다.\n",
    "        _, predicted = torch.max(outputs, 1)  # 예측값에서 가장 높은 확률을 갖는 클래스를 선택합니다.\n",
    "        c = (predicted == labels).squeeze()   # 정답과 예측이 일치하는지\n"
   ]
  }
 ],
 "metadata": {
  "kernelspec": {
   "display_name": ".venv",
   "language": "python",
   "name": "python3"
  },
  "language_info": {
   "codemirror_mode": {
    "name": "ipython",
    "version": 3
   },
   "file_extension": ".py",
   "mimetype": "text/x-python",
   "name": "python",
   "nbconvert_exporter": "python",
   "pygments_lexer": "ipython3",
   "version": "3.11.4"
  }
 },
 "nbformat": 4,
 "nbformat_minor": 2
}
